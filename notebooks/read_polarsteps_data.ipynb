{
 "cells": [
  {
   "cell_type": "code",
   "execution_count": 6,
   "id": "44fc1baa",
   "metadata": {},
   "outputs": [],
   "source": [
    "import os\n",
    "import sys\n",
    "sys.path.append(os.path.abspath(os.path.join(os.getcwd(), '..')))\n",
    "\n",
    "import json\n",
    "\n",
    "from app.data_models.trip import Trip"
   ]
  },
  {
   "cell_type": "code",
   "execution_count": null,
   "id": "19cb96b2",
   "metadata": {},
   "outputs": [],
   "source": [
    "with open(os.path.expanduser(\"~/ai-travel-companion/data/trip.json\"), \"r\") as f:\n",
    "    data = json.load(f)"
   ]
  },
  {
   "cell_type": "code",
   "execution_count": 8,
   "id": "db1f2568",
   "metadata": {},
   "outputs": [],
   "source": [
    "trip = Trip(**data)\n",
    "    "
   ]
  },
  {
   "cell_type": "code",
   "execution_count": 9,
   "id": "dbe754b4",
   "metadata": {},
   "outputs": [
    {
     "name": "stdout",
     "output_type": "stream",
     "text": [
      "lat=47.4223548 lon=8.5622729 name='Glattpark' detail='Switzerland' country_code='CH'\n"
     ]
    }
   ],
   "source": [
    "print(trip.all_steps[1].location)"
   ]
  },
  {
   "cell_type": "code",
   "execution_count": null,
   "id": "cab9f967",
   "metadata": {},
   "outputs": [],
   "source": []
  }
 ],
 "metadata": {
  "kernelspec": {
   "display_name": "venv",
   "language": "python",
   "name": "python3"
  },
  "language_info": {
   "codemirror_mode": {
    "name": "ipython",
    "version": 3
   },
   "file_extension": ".py",
   "mimetype": "text/x-python",
   "name": "python",
   "nbconvert_exporter": "python",
   "pygments_lexer": "ipython3",
   "version": "3.13.4"
  }
 },
 "nbformat": 4,
 "nbformat_minor": 5
}
