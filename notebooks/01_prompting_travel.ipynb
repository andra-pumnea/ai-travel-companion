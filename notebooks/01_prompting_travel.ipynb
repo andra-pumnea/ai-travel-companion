{
 "cells": [
  {
   "cell_type": "code",
   "execution_count": null,
   "id": "e3a5145f",
   "metadata": {},
   "outputs": [],
   "source": [
    "import os\n",
    "import sys\n",
    "\n",
    "sys.path.append(os.path.abspath(os.path.join(os.getcwd(), \"..\")))\n",
    "\n",
    "from groq import Groq\n",
    "import json\n",
    "\n",
    "from app.config import LLMConfig\n",
    "from app.data_models.trip import Trip\n",
    "\n",
    "llm_config = LLMConfig()\n",
    "client = Groq(\n",
    "    api_key=llm_config.groq_api_key,\n",
    ")\n"
   ]
  },
  {
   "cell_type": "code",
   "execution_count": null,
   "id": "ca9c03fe",
   "metadata": {},
   "outputs": [],
   "source": [
    "with open(os.path.expanduser(\"~/ai-travel-companion/data/trip.json\"), \"r\") as f:\n",
    "    data = json.load(f)\n",
    "trip = Trip(**data)"
   ]
  },
  {
   "cell_type": "code",
   "execution_count": null,
   "id": "ed537a21",
   "metadata": {},
   "outputs": [],
   "source": [
    "# Summarize travel journal using the LLM.\n",
    "chat_completion = client.chat.completions.create(\n",
    "    messages=[\n",
    "        {\n",
    "            \"role\": \"system\",\n",
    "            \"content\": \"You are a helpful travel assistant and respond only to travel queries. Summarize this travel journal in 2 sentences using a friendly and engaging tone.\",\n",
    "        },\n",
    "        {\n",
    "            \"role\": \"user\",\n",
    "            \"content\": f\"{trip.all_steps[0].description}\",\n",
    "        },\n",
    "    ],\n",
    "    model=\"llama-3.3-70b-versatile\",\n",
    "    temperature=0.2,\n",
    "    max_tokens=100,\n",
    ")\n",
    "\n",
    "# Print the completion returned by the LLM.\n",
    "print(chat_completion.choices[0].message.content)"
   ]
  },
  {
   "cell_type": "code",
   "execution_count": null,
   "id": "dc4a3e90",
   "metadata": {},
   "outputs": [],
   "source": [
    "# Plan a trip itinerary using the LLM.\n",
    "chat_completion = client.chat.completions.create(\n",
    "    messages=[\n",
    "        {\n",
    "            \"role\": \"system\",\n",
    "            \"content\": \"You are a helpful travel assistant and respond only to travel queries. Plan a trip by providing an itinerary based on the request from your client. Use a friendly and engaging tone. Keep the response concise, and take into account what is realistic considering distances and any other constraints. Be specific about food, activities, landmarks, and other relevant details. Respond with bulltet points and ask if they are happy or would like any changes.\",\n",
    "        },\n",
    "        {\n",
    "            \"role\": \"user\",\n",
    "            \"content\": \"Plan a 5 day itinerary in Vietnam.\",\n",
    "        }\n",
    "    ],\n",
    "    model=\"llama-3.3-70b-versatile\",\n",
    "    temperature=0.2,\n",
    "    max_tokens=400\n",
    ")\n",
    "\n",
    "# Print the completion returned by the LLM.\n",
    "print(chat_completion.choices[0].message.content)"
   ]
  },
  {
   "cell_type": "code",
   "execution_count": null,
   "id": "78969be6",
   "metadata": {},
   "outputs": [],
   "source": [
    "# Get travel recommendations using the LLM.\n",
    "chat_completion = client.chat.completions.create(\n",
    "    messages=[\n",
    "        {\n",
    "            \"role\": \"system\",\n",
    "            \"content\": \"You are a helpful travel assistant and respond only to travel queries. Give recommendations or suggestions based on the user's request either about food, destinations, sightseeing, planning and so on. Use a friendly and engaging tone. Keep the response concise.\",\n",
    "        },\n",
    "        {\n",
    "            \"role\": \"user\",\n",
    "            \"content\": \"Can I visit both Hanoi and Ho Chi Minh City in 5 days? What would you recommend?\",\n",
    "        }\n",
    "    ],\n",
    "    model=\"llama-3.3-70b-versatile\",\n",
    "    temperature=0.2,\n",
    "    max_tokens=200\n",
    ")\n",
    "\n",
    "# Print the completion returned by the LLM.\n",
    "print(chat_completion.choices[0].message.content)"
   ]
  },
  {
   "cell_type": "code",
   "execution_count": null,
   "id": "d4402760",
   "metadata": {},
   "outputs": [],
   "source": []
  }
 ],
 "metadata": {
  "kernelspec": {
   "display_name": "venv",
   "language": "python",
   "name": "python3"
  },
  "language_info": {
   "codemirror_mode": {
    "name": "ipython",
    "version": 3
   },
   "file_extension": ".py",
   "mimetype": "text/x-python",
   "name": "python",
   "nbconvert_exporter": "python",
   "pygments_lexer": "ipython3",
   "version": "3.13.4"
  }
 },
 "nbformat": 4,
 "nbformat_minor": 5
}
